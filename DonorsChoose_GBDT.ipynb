{
  "nbformat": 4,
  "nbformat_minor": 0,
  "metadata": {
    "colab": {
      "name": "Copy of 11_Assignment_GBDT_Instructions.ipynb",
      "provenance": [],
      "collapsed_sections": []
    },
    "language_info": {
      "codemirror_mode": {
        "name": "ipython",
        "version": 3
      },
      "file_extension": ".py",
      "mimetype": "text/x-python",
      "name": "python",
      "nbconvert_exporter": "python",
      "pygments_lexer": "ipython3",
      "version": "3.6.8"
    },
    "kernelspec": {
      "display_name": "Python 3",
      "language": "python",
      "name": "python3"
    },
    "accelerator": "GPU"
  },
  "cells": [
    {
      "cell_type": "markdown",
      "metadata": {
        "id": "8wqapAXjsc24"
      },
      "source": [
        "# Assignment 9: GBDT"
      ]
    },
    {
      "cell_type": "markdown",
      "metadata": {
        "id": "8u5NhbnEsc2-"
      },
      "source": [
        "#### Response Coding: Example"
      ]
    },
    {
      "cell_type": "markdown",
      "metadata": {
        "id": "HIFWmwHKsc3A"
      },
      "source": [
        "<img src='http://i.imgur.com/TufZptV.jpg' width=700px>\n",
        "\n",
        "> The response tabel is built only on train dataset.\n",
        "> For a category which is not there in train data and present in test data, we will encode them with default values\n",
        "Ex: in our test data if have State: D then we encode it as [0.5, 0.05]"
      ]
    },
    {
      "cell_type": "markdown",
      "metadata": {
        "id": "3KwfGufDsc3D"
      },
      "source": [
        "<ol>\n",
        "    <li><strong>Apply GBDT on these feature sets</strong>\n",
        "        <ul>\n",
        "            <li><font color='red'>Set 1</font>: categorical(instead of one hot encoding, try <a href='https://www.appliedaicourse.com/course/applied-ai-course-online/lessons/handling-categorical-and-numerical-features/'>response coding</a>: use probability values), numerical features + project_title(TFIDF)+  preprocessed_eassay (TFIDF)+sentiment Score of eassay(check the bellow example, include all 4 values as 4 features)</li>\n",
        "            <li><font color='red'>Set 2</font>: categorical(instead of one hot encoding, try <a href='https://www.appliedaicourse.com/course/applied-ai-course-online/lessons/handling-categorical-and-numerical-features/'>response coding</a>: use probability values), numerical features + project_title(TFIDF W2V)+  preprocessed_eassay (TFIDF W2V)</li>        </ul>\n",
        "    </li>\n",
        "    <li><strong>The hyper paramter tuning (Consider any two hyper parameters)</strong>\n",
        "        <ul>\n",
        "    <li>Find the best hyper parameter which will give the maximum <a href='https://www.appliedaicourse.com/course/applied-ai-course-online/lessons/receiver-operating-characteristic-curve-roc-curve-and-auc-1/'>AUC</a> value</li>\n",
        "    <li>find the best hyper paramter using k-fold cross validation/simple cross validation data</li>\n",
        "    <li>use gridsearch cv or randomsearch cv or you can write your own for loops to do this task</li>\n",
        "        </ul>\n",
        "    </li>\n",
        "    <li>\n",
        "    <strong>Representation of results</strong>\n",
        "        <ul>\n",
        "    <li>You need to plot the performance of model both on train data and cross validation data for each hyper parameter, like shown in the figure\n",
        "    <img src='https://i.imgur.com/Gp2DQmh.jpg' width=500px> with X-axis as <strong>n_estimators</strong>, Y-axis as <strong>max_depth</strong>, and Z-axis as <strong>AUC Score</strong> , we have given the notebook which explains how to plot this 3d plot, you can find it in the same drive <i>3d_scatter_plot.ipynb</i></li>\n",
        "            <p style=\"text-align:center;font-size:30px;color:red;\"><strong>or</strong></p> <br>\n",
        "    <li>You need to plot the performance of model both on train data and cross validation data for each hyper parameter, like shown in the figure\n",
        "    <img src='https://i.imgur.com/fgN9aUP.jpg' width=300px> <a href='https://seaborn.pydata.org/generated/seaborn.heatmap.html'>seaborn heat maps</a> with rows as <strong>n_estimators</strong>, columns as <strong>max_depth</strong>, and values inside the cell representing <strong>AUC Score</strong> </li>\n",
        "    <li>You choose either of the plotting techniques out of 3d plot or heat map</li>\n",
        "    <li>Once after you found the best hyper parameter, you need to train your model with it, and find the AUC on test data and plot the ROC curve on both train and test.\n",
        "    <img src='https://i.imgur.com/wMQDTFe.jpg' width=300px></li>\n",
        "    <li>Along with plotting ROC curve, you need to print the <a href='https://www.appliedaicourse.com/course/applied-ai-course-online/lessons/confusion-matrix-tpr-fpr-fnr-tnr-1/'>confusion matrix</a> with predicted and original labels of test data points\n",
        "    <img src='https://i.imgur.com/IdN5Ctv.png' width=300px></li>\n",
        "            </ul>\n",
        "    <br>\n",
        "    <li>You need to summarize the results at the end of the notebook, summarize it in the table format\n",
        "        <img src='http://i.imgur.com/YVpIGGE.jpg' width=400px>\n",
        "    </li>\n",
        "</ol>"
      ]
    },
    {
      "cell_type": "code",
      "metadata": {
        "id": "_10dpecJWJFi",
        "outputId": "bc5cf7e8-fcb0-4370-9070-21c3d6822ea0",
        "colab": {
          "base_uri": "https://localhost:8080/",
          "height": 33
        }
      },
      "source": [
        "from google.colab import drive\n",
        "drive.mount('/content/drive') "
      ],
      "execution_count": 1,
      "outputs": [
        {
          "output_type": "stream",
          "text": [
            "Mounted at /content/drive\n"
          ],
          "name": "stdout"
        }
      ]
    },
    {
      "cell_type": "code",
      "metadata": {
        "id": "p4YdT02Ja1p_",
        "outputId": "0bc12ff7-d1d7-4d4a-b693-8509bd609ee1",
        "colab": {
          "base_uri": "https://localhost:8080/",
          "height": 50
        }
      },
      "source": [
        "import nltk\n",
        "nltk.download('vader_lexicon')"
      ],
      "execution_count": 2,
      "outputs": [
        {
          "output_type": "stream",
          "text": [
            "[nltk_data] Downloading package vader_lexicon to /root/nltk_data...\n"
          ],
          "name": "stdout"
        },
        {
          "output_type": "execute_result",
          "data": {
            "text/plain": [
              "True"
            ]
          },
          "metadata": {
            "tags": []
          },
          "execution_count": 2
        }
      ]
    },
    {
      "cell_type": "code",
      "metadata": {
        "id": "iffa2_WGsc3H",
        "outputId": "dfcfa7ae-467a-4b65-d46b-d8808bce9897",
        "colab": {
          "base_uri": "https://localhost:8080/",
          "height": 70
        }
      },
      "source": [
        "import nltk\n",
        "from nltk.sentiment.vader import SentimentIntensityAnalyzer\n",
        "\n",
        "# import nltk\n",
        "# nltk.download('vader_lexicon')\n",
        "\n",
        "sid = SentimentIntensityAnalyzer()\n",
        "\n",
        "for_sentiment = 'a person is a person no matter how small dr seuss i teach the smallest students with the biggest enthusiasm \\\n",
        "for learning my students learn in many different ways using all of our senses and multiple intelligences i use a wide range\\\n",
        "of techniques to help all my students succeed students in my class come from a variety of different backgrounds which makes\\\n",
        "for wonderful sharing of experiences and cultures including native americans our school is a caring community of successful \\\n",
        "learners which can be seen through collaborative student project based learning in and out of the classroom kindergarteners \\\n",
        "in my class love to work with hands on materials and have many different opportunities to practice a skill before it is\\\n",
        "mastered having the social skills to work cooperatively with friends is a crucial aspect of the kindergarten curriculum\\\n",
        "montana is the perfect place to learn about agriculture and nutrition my students love to role play in our pretend kitchen\\\n",
        "in the early childhood classroom i have had several kids ask me can we try cooking with real food i will take their idea \\\n",
        "and create common core cooking lessons where we learn important math and writing concepts while cooking delicious healthy \\\n",
        "food for snack time my students will have a grounded appreciation for the work that went into making the food and knowledge \\\n",
        "of where the ingredients came from as well as how it is healthy for their bodies this project would expand our learning of \\\n",
        "nutrition and agricultural cooking recipes by having us peel our own apples to make homemade applesauce make our own bread \\\n",
        "and mix up healthy plants from our classroom garden in the spring we will also create our own cookbooks to be printed and \\\n",
        "shared with families students will gain math and literature skills as well as a life long enjoyment for healthy cooking \\\n",
        "nannan'\n",
        "ss = sid.polarity_scores(for_sentiment)\n",
        "\n",
        "for k in ss:\n",
        "    print('{0}: {1}, '.format(k, ss[k]), end='')\n",
        "\n",
        "# we can use these 4 things as features/attributes (neg, neu, pos, compound)\n",
        "# neg: 0.0, neu: 0.753, pos: 0.247, compound: 0.93"
      ],
      "execution_count": 3,
      "outputs": [
        {
          "output_type": "stream",
          "text": [
            "neg: 0.01, neu: 0.745, pos: 0.245, compound: 0.9975, "
          ],
          "name": "stdout"
        },
        {
          "output_type": "stream",
          "text": [
            "/usr/local/lib/python3.6/dist-packages/nltk/twitter/__init__.py:20: UserWarning: The twython library has not been installed. Some functionality from the twitter package will not be available.\n",
            "  warnings.warn(\"The twython library has not been installed. \"\n"
          ],
          "name": "stderr"
        }
      ]
    },
    {
      "cell_type": "markdown",
      "metadata": {
        "id": "BOyTl7oKsc3W"
      },
      "source": [
        "<h1>1. GBDT (xgboost/lightgbm) </h1>"
      ]
    },
    {
      "cell_type": "markdown",
      "metadata": {
        "id": "VWge-b2Zsc3Z"
      },
      "source": [
        "## 1.1 Loading Data"
      ]
    },
    {
      "cell_type": "code",
      "metadata": {
        "id": "WDZFu6-usc3d"
      },
      "source": [
        "import pandas as pd\n",
        "import numpy as np \n",
        "\n",
        "data = pd.read_csv('/content/drive/My Drive/6_Donors_choose_NB/preprocessed_data.csv',nrows=50000)"
      ],
      "execution_count": 4,
      "outputs": []
    },
    {
      "cell_type": "code",
      "metadata": {
        "id": "oAyLWObtbU3-",
        "outputId": "e22281ee-61d6-428d-a219-f36f18d8a14f",
        "colab": {
          "base_uri": "https://localhost:8080/",
          "height": 272
        }
      },
      "source": [
        "data.head()"
      ],
      "execution_count": 5,
      "outputs": [
        {
          "output_type": "execute_result",
          "data": {
            "text/html": [
              "<div>\n",
              "<style scoped>\n",
              "    .dataframe tbody tr th:only-of-type {\n",
              "        vertical-align: middle;\n",
              "    }\n",
              "\n",
              "    .dataframe tbody tr th {\n",
              "        vertical-align: top;\n",
              "    }\n",
              "\n",
              "    .dataframe thead th {\n",
              "        text-align: right;\n",
              "    }\n",
              "</style>\n",
              "<table border=\"1\" class=\"dataframe\">\n",
              "  <thead>\n",
              "    <tr style=\"text-align: right;\">\n",
              "      <th></th>\n",
              "      <th>school_state</th>\n",
              "      <th>teacher_prefix</th>\n",
              "      <th>project_grade_category</th>\n",
              "      <th>teacher_number_of_previously_posted_projects</th>\n",
              "      <th>project_is_approved</th>\n",
              "      <th>clean_categories</th>\n",
              "      <th>clean_subcategories</th>\n",
              "      <th>essay</th>\n",
              "      <th>price</th>\n",
              "    </tr>\n",
              "  </thead>\n",
              "  <tbody>\n",
              "    <tr>\n",
              "      <th>0</th>\n",
              "      <td>ca</td>\n",
              "      <td>mrs</td>\n",
              "      <td>grades_prek_2</td>\n",
              "      <td>53</td>\n",
              "      <td>1</td>\n",
              "      <td>math_science</td>\n",
              "      <td>appliedsciences health_lifescience</td>\n",
              "      <td>i fortunate enough use fairy tale stem kits cl...</td>\n",
              "      <td>725.05</td>\n",
              "    </tr>\n",
              "    <tr>\n",
              "      <th>1</th>\n",
              "      <td>ut</td>\n",
              "      <td>ms</td>\n",
              "      <td>grades_3_5</td>\n",
              "      <td>4</td>\n",
              "      <td>1</td>\n",
              "      <td>specialneeds</td>\n",
              "      <td>specialneeds</td>\n",
              "      <td>imagine 8 9 years old you third grade classroo...</td>\n",
              "      <td>213.03</td>\n",
              "    </tr>\n",
              "    <tr>\n",
              "      <th>2</th>\n",
              "      <td>ca</td>\n",
              "      <td>mrs</td>\n",
              "      <td>grades_prek_2</td>\n",
              "      <td>10</td>\n",
              "      <td>1</td>\n",
              "      <td>literacy_language</td>\n",
              "      <td>literacy</td>\n",
              "      <td>having class 24 students comes diverse learner...</td>\n",
              "      <td>329.00</td>\n",
              "    </tr>\n",
              "    <tr>\n",
              "      <th>3</th>\n",
              "      <td>ga</td>\n",
              "      <td>mrs</td>\n",
              "      <td>grades_prek_2</td>\n",
              "      <td>2</td>\n",
              "      <td>1</td>\n",
              "      <td>appliedlearning</td>\n",
              "      <td>earlydevelopment</td>\n",
              "      <td>i recently read article giving students choice...</td>\n",
              "      <td>481.04</td>\n",
              "    </tr>\n",
              "    <tr>\n",
              "      <th>4</th>\n",
              "      <td>wa</td>\n",
              "      <td>mrs</td>\n",
              "      <td>grades_3_5</td>\n",
              "      <td>2</td>\n",
              "      <td>1</td>\n",
              "      <td>literacy_language</td>\n",
              "      <td>literacy</td>\n",
              "      <td>my students crave challenge eat obstacles brea...</td>\n",
              "      <td>17.74</td>\n",
              "    </tr>\n",
              "  </tbody>\n",
              "</table>\n",
              "</div>"
            ],
            "text/plain": [
              "  school_state  ...   price\n",
              "0           ca  ...  725.05\n",
              "1           ut  ...  213.03\n",
              "2           ca  ...  329.00\n",
              "3           ga  ...  481.04\n",
              "4           wa  ...   17.74\n",
              "\n",
              "[5 rows x 9 columns]"
            ]
          },
          "metadata": {
            "tags": []
          },
          "execution_count": 5
        }
      ]
    },
    {
      "cell_type": "code",
      "metadata": {
        "id": "mXrRwGEtblOJ",
        "outputId": "585ad87d-12e4-49c2-db05-25f589acf216",
        "colab": {
          "base_uri": "https://localhost:8080/",
          "height": 33
        }
      },
      "source": [
        "data.shape"
      ],
      "execution_count": 6,
      "outputs": [
        {
          "output_type": "execute_result",
          "data": {
            "text/plain": [
              "(50000, 9)"
            ]
          },
          "metadata": {
            "tags": []
          },
          "execution_count": 6
        }
      ]
    },
    {
      "cell_type": "markdown",
      "metadata": {
        "id": "6lAMFKFcsc3j"
      },
      "source": [
        "<h2>1.2 Splitting data into Train and cross validation(or test): Stratified Sampling</h2>"
      ]
    },
    {
      "cell_type": "code",
      "metadata": {
        "id": "ODMijuuNsc3l"
      },
      "source": [
        "# please write all the code with proper documentation, and proper titles for each subsection\n",
        "# go through documentations and blogs before you start coding\n",
        "# first figure out what to do, and then think about how to do.\n",
        "# reading and understanding error messages will be very much helpfull in debugging your code\n",
        "# when you plot any graph make sure you use \n",
        "    # a. Title, that describes your plot, this will be very helpful to the reader\n",
        "    # b. Legends if needed\n",
        "    # c. X-axis label\n",
        "    # d. Y-axis label"
      ],
      "execution_count": 7,
      "outputs": []
    },
    {
      "cell_type": "code",
      "metadata": {
        "id": "ILY1NVTDbHCf",
        "outputId": "10c1c003-2533-4811-ef37-d6792d539bf3",
        "colab": {
          "base_uri": "https://localhost:8080/",
          "height": 76
        }
      },
      "source": [
        "\n",
        "y = data['project_is_approved']#.values\n",
        "X = data.drop(['project_is_approved'], axis=1)\n",
        "X.head(1)"
      ],
      "execution_count": 8,
      "outputs": [
        {
          "output_type": "execute_result",
          "data": {
            "text/html": [
              "<div>\n",
              "<style scoped>\n",
              "    .dataframe tbody tr th:only-of-type {\n",
              "        vertical-align: middle;\n",
              "    }\n",
              "\n",
              "    .dataframe tbody tr th {\n",
              "        vertical-align: top;\n",
              "    }\n",
              "\n",
              "    .dataframe thead th {\n",
              "        text-align: right;\n",
              "    }\n",
              "</style>\n",
              "<table border=\"1\" class=\"dataframe\">\n",
              "  <thead>\n",
              "    <tr style=\"text-align: right;\">\n",
              "      <th></th>\n",
              "      <th>school_state</th>\n",
              "      <th>teacher_prefix</th>\n",
              "      <th>project_grade_category</th>\n",
              "      <th>teacher_number_of_previously_posted_projects</th>\n",
              "      <th>clean_categories</th>\n",
              "      <th>clean_subcategories</th>\n",
              "      <th>essay</th>\n",
              "      <th>price</th>\n",
              "    </tr>\n",
              "  </thead>\n",
              "  <tbody>\n",
              "    <tr>\n",
              "      <th>0</th>\n",
              "      <td>ca</td>\n",
              "      <td>mrs</td>\n",
              "      <td>grades_prek_2</td>\n",
              "      <td>53</td>\n",
              "      <td>math_science</td>\n",
              "      <td>appliedsciences health_lifescience</td>\n",
              "      <td>i fortunate enough use fairy tale stem kits cl...</td>\n",
              "      <td>725.05</td>\n",
              "    </tr>\n",
              "  </tbody>\n",
              "</table>\n",
              "</div>"
            ],
            "text/plain": [
              "  school_state  ...   price\n",
              "0           ca  ...  725.05\n",
              "\n",
              "[1 rows x 8 columns]"
            ]
          },
          "metadata": {
            "tags": []
          },
          "execution_count": 8
        }
      ]
    },
    {
      "cell_type": "code",
      "metadata": {
        "id": "u8h8qSIxbZkO"
      },
      "source": [
        "from sklearn.model_selection import train_test_split\n",
        "X_train, X_test, y_train, y_test = train_test_split(X, y, test_size=0.33, stratify=y)"
      ],
      "execution_count": 9,
      "outputs": []
    },
    {
      "cell_type": "code",
      "metadata": {
        "id": "nj3pRbhPbg50",
        "outputId": "3d8b0fc3-2721-41cd-a9f7-a94dec44c012",
        "colab": {
          "base_uri": "https://localhost:8080/",
          "height": 82
        }
      },
      "source": [
        "print('X_train:',X_train.shape)\n",
        "print('X_test:',X_test.shape)\n",
        "print('y_train:',y_train.shape)\n",
        "print('y_test:',y_test.shape)"
      ],
      "execution_count": 10,
      "outputs": [
        {
          "output_type": "stream",
          "text": [
            "X_train: (33500, 8)\n",
            "X_test: (16500, 8)\n",
            "y_train: (33500,)\n",
            "y_test: (16500,)\n"
          ],
          "name": "stdout"
        }
      ]
    },
    {
      "cell_type": "markdown",
      "metadata": {
        "id": "vsALgl5Asc3u"
      },
      "source": [
        "<h2>1.3 Make Data Model Ready: encoding eassay, and project_title</h2>"
      ]
    },
    {
      "cell_type": "code",
      "metadata": {
        "id": "1A_85jbWsc3v"
      },
      "source": [
        "# please write all the code with proper documentation, and proper titles for each subsection\n",
        "# go through documentations and blogs before you start codingprint('X_train:',X_train.shape)\n",
        "# first figure out what to do, and then think about how to do.\n",
        "# reading and understanding error messages will be very much helpfull in debugging your code\n",
        "# make sure you featurize train and test data separatly\n",
        "\n",
        "# when you plot any graph make sure you use \n",
        "    # a. Title, that describes your plot, this will be very helpful to the reader\n",
        "    # b. Legends if needed\n",
        "    # c. X-axis label\n",
        "    # d. Y-axis label"
      ],
      "execution_count": 11,
      "outputs": []
    },
    {
      "cell_type": "markdown",
      "metadata": {
        "id": "s7V2aCt5TLxA"
      },
      "source": [
        "**Encoding Essay using TFIDF**"
      ]
    },
    {
      "cell_type": "code",
      "metadata": {
        "id": "uigqggAKTEQG",
        "outputId": "b686fad6-b781-4477-ab45-f5b449c9b84f",
        "colab": {
          "base_uri": "https://localhost:8080/",
          "height": 50
        }
      },
      "source": [
        "from sklearn.feature_extraction.text import TfidfVectorizer\n",
        "\n",
        "essay_vec_tfidf = TfidfVectorizer(min_df=10, ngram_range=(1,4), max_features=10000)\n",
        "essay_vec_tfidf.fit(X_train['essay'].values)\n",
        "X_train_essay_tfidf = essay_vec_tfidf.transform(X_train['essay'].values)\n",
        "X_test_essay_tfidf = essay_vec_tfidf.transform(X_test['essay'].values)\n",
        "\n",
        "print(X_train_essay_tfidf.shape, y_train.shape)\n",
        "print(X_test_essay_tfidf.shape, y_test.shape)\n"
      ],
      "execution_count": 12,
      "outputs": [
        {
          "output_type": "stream",
          "text": [
            "(33500, 10000) (33500,)\n",
            "(16500, 10000) (16500,)\n"
          ],
          "name": "stdout"
        }
      ]
    },
    {
      "cell_type": "markdown",
      "metadata": {
        "id": "q7EocY1uVkOJ"
      },
      "source": [
        "\n",
        "**Encoding Essay using Tfidf w2v**\n",
        "\n",
        "\n"
      ]
    },
    {
      "cell_type": "markdown",
      "metadata": {
        "id": "gSUo0-GzJ_xJ"
      },
      "source": [
        "Loading Glove dataset"
      ]
    },
    {
      "cell_type": "code",
      "metadata": {
        "id": "n_yrISsMJsHk"
      },
      "source": [
        "#please use below code to load glove vectors \n",
        "import pickle\n",
        "with open('/content/drive/My Drive/11_Donors_choose_GBDT/glove_vectors', 'rb') as f:\n",
        "    model = pickle.load(f)\n",
        "    glove_words =  set(model.keys())"
      ],
      "execution_count": 13,
      "outputs": []
    },
    {
      "cell_type": "markdown",
      "metadata": {
        "id": "0ZWY7pTUD4xB"
      },
      "source": [
        "Tfidf w2v for the essay using the X_train data"
      ]
    },
    {
      "cell_type": "code",
      "metadata": {
        "id": "7gX0FI9UVBqE"
      },
      "source": [
        "from tqdm import tqdm\n",
        "\n",
        "preprocessed_essays = X_train['essay'].values\n",
        "tfidf_model = TfidfVectorizer()\n",
        "tfidf_model.fit(preprocessed_essays)\n",
        "# we are converting a dictionary with word as a key, and the idf as a value\n",
        "dictionary = dict(zip(tfidf_model.get_feature_names(), list(tfidf_model.idf_)))\n",
        "tfidf_words = set(tfidf_model.get_feature_names())"
      ],
      "execution_count": 14,
      "outputs": []
    },
    {
      "cell_type": "code",
      "metadata": {
        "id": "Mg8aG5BjZrH4",
        "outputId": "079e1fdf-19d9-48c8-8a79-eaed611865b7",
        "colab": {
          "base_uri": "https://localhost:8080/",
          "height": 66
        }
      },
      "source": [
        "# average Word2Vec\n",
        "# compute average word2vec for each review.\n",
        "tfidf_w2v_vectors_X_train = []                              # the avg-w2v for each sentence/review is stored in this list\n",
        "for sentence in tqdm(preprocessed_essays):                  # for each review/sentence\n",
        "    vector = np.zeros(300)                                  # as word vectors are of zero length\n",
        "    tf_idf_weight =0                                        # num of words with a valid vector in the sentence/review\n",
        "    for word in sentence.split():                           # for each word in a review/sentence\n",
        "        if (word in glove_words) and (word in tfidf_words):\n",
        "            vec = model[word]                               # getting the vector for each word\n",
        "            # here we are multiplying idf value(dictionary[word]) and the tf value((sentence.count(word)/len(sentence.split())))\n",
        "            tf_idf = dictionary[word]*(sentence.count(word)/len(sentence.split()))     # getting the tfidf value for each word\n",
        "            vector += (vec * tf_idf)                        # calculating tfidf weighted w2v\n",
        "            tf_idf_weight += tf_idf\n",
        "    if tf_idf_weight != 0:\n",
        "        vector /= tf_idf_weight\n",
        "    tfidf_w2v_vectors_X_train.append(vector)\n",
        "\n",
        "print(len(tfidf_w2v_vectors_X_train))\n",
        "print(len(tfidf_w2v_vectors_X_train[0]))"
      ],
      "execution_count": 15,
      "outputs": [
        {
          "output_type": "stream",
          "text": [
            "100%|██████████| 33500/33500 [01:13<00:00, 452.96it/s]"
          ],
          "name": "stderr"
        },
        {
          "output_type": "stream",
          "text": [
            "33500\n",
            "300\n"
          ],
          "name": "stdout"
        },
        {
          "output_type": "stream",
          "text": [
            "\n"
          ],
          "name": "stderr"
        }
      ]
    },
    {
      "cell_type": "markdown",
      "metadata": {
        "id": "1YWU1-p5FSRb"
      },
      "source": [
        "Tfidf w2v for the essay in X_test data"
      ]
    },
    {
      "cell_type": "code",
      "metadata": {
        "id": "kMIvi2jjDidE"
      },
      "source": [
        "preprocessed_essays = X_test['essay'].values\n",
        "tfidf_model = TfidfVectorizer()\n",
        "tfidf_model.fit(preprocessed_essays)\n",
        "# we are converting a dictionary with word as a key, and the idf as a value\n",
        "dictionary = dict(zip(tfidf_model.get_feature_names(), list(tfidf_model.idf_)))\n",
        "tfidf_words = set(tfidf_model.get_feature_names())"
      ],
      "execution_count": 16,
      "outputs": []
    },
    {
      "cell_type": "code",
      "metadata": {
        "id": "FEoPYUIoFxQk",
        "outputId": "433006f1-6370-4e45-f233-0ca19581c573",
        "colab": {
          "base_uri": "https://localhost:8080/",
          "height": 66
        }
      },
      "source": [
        "# average Word2Vec\n",
        "# compute average word2vec for each review.\n",
        "tfidf_w2v_vectors_X_test = []                               # the avg-w2v for each sentence/review is stored in this list\n",
        "for sentence in tqdm(preprocessed_essays):                  # for each review/sentence\n",
        "    vector = np.zeros(300)                                  # as word vectors are of zero length\n",
        "    tf_idf_weight = 0                                       # num of words with a valid vector in the sentence/review\n",
        "    for word in sentence.split():                           # for each word in a review/sentence\n",
        "        if (word in glove_words) and (word in tfidf_words):\n",
        "            vec = model[word]                               # getting the vector for each word\n",
        "            # here we are multiplying idf value(dictionary[word]) and the tf value((sentence.count(word)/len(sentence.split())))\n",
        "            tf_idf = dictionary[word]*(sentence.count(word)/len(sentence.split()))     # getting the tfidf value for each word\n",
        "            vector += (vec * tf_idf)                        # calculating tfidf weighted w2v\n",
        "            tf_idf_weight += tf_idf\n",
        "    if tf_idf_weight != 0:\n",
        "        vector /= tf_idf_weight\n",
        "    tfidf_w2v_vectors_X_test.append(vector)\n",
        "\n",
        "print(len(tfidf_w2v_vectors_X_test))\n",
        "print(len(tfidf_w2v_vectors_X_test[0]))"
      ],
      "execution_count": 17,
      "outputs": [
        {
          "output_type": "stream",
          "text": [
            "100%|██████████| 16500/16500 [00:37<00:00, 436.58it/s]"
          ],
          "name": "stderr"
        },
        {
          "output_type": "stream",
          "text": [
            "16500\n",
            "300\n"
          ],
          "name": "stdout"
        },
        {
          "output_type": "stream",
          "text": [
            "\n"
          ],
          "name": "stderr"
        }
      ]
    },
    {
      "cell_type": "markdown",
      "metadata": {
        "id": "S3Vxxv2Hsc31"
      },
      "source": [
        "<h2>1.4 Make Data Model Ready: encoding numerical, categorical features</h2>"
      ]
    },
    {
      "cell_type": "code",
      "metadata": {
        "id": "RAtihVPqsc33"
      },
      "source": [
        "# please write all the code with proper documentation, and proper titles for each subsection\n",
        "# go through documentations and blogs before you start coding \n",
        "# first figure out what to do, and then think about how to do.\n",
        "# reading and understanding error messages will be very much helpfull in debugging your code\n",
        "# make sure you featurize train and test data separatly\n",
        "\n",
        "# when you plot any graph make sure you use \n",
        "    # a. Title, that describes your plot, this will be very helpful to the reader\n",
        "    # b. Legends if needed \n",
        "    # c. X-axis label\n",
        "    # d. Y-axis label "
      ],
      "execution_count": 18,
      "outputs": []
    },
    {
      "cell_type": "markdown",
      "metadata": {
        "id": "Cdmhr8x6h1RN"
      },
      "source": [
        "**Creating Response Table for response coding.**"
      ]
    },
    {
      "cell_type": "code",
      "metadata": {
        "id": "sTrfMXF1IgXq"
      },
      "source": [
        "def response_table(xtrain, ytrain, feature):\n",
        "  d = {}\n",
        "  # Considering the unique feature from xtrain data and storing it in a variable\n",
        "  unique_features = X_train[feature].unique()\n",
        "  for i in range(0,len(unique_features)):\n",
        "      # Calculating the denominator of categories presented in the feature \n",
        "      tot = xtrain[feature].loc[xtrain[feature] == unique_features[i]].count()\n",
        "      # Calculation the numerator of the categories presented in the feature with class label as 1\n",
        "      P_1 = xtrain[feature].loc[(xtrain[feature] == unique_features[i]) & (ytrain == 1)].count()\n",
        "      # Calculation the numerator of the categories presented in the feature with class label as 0\n",
        "      P_0 = xtrain[feature].loc[(xtrain[feature] == unique_features[i]) & (ytrain == 0)].count()\n",
        "      # Creating the dictionary in which we have category with the probability score for the class label 1 and 0\n",
        "      d[unique_features[i]] = [P_0/tot , P_1/tot]\n",
        "  return d\n",
        "\n",
        "# Encoding the test data with the help of the response table. For response table we have used the train data.\n",
        "def encoding_test(response_table, xtest, feature):\n",
        "  d_1 = {}\n",
        "  # Considering the unique feature from xtest data and storing it in a variable\n",
        "  unique_features_test = xtest[feature].unique()\n",
        "  for i in range(0,len(unique_features_test)):\n",
        "  # Now we will check the category in the response table if it is present then we will assign the value of the class 0 and 1. Otherwise, if not present we will assign the values as [0.5,0.5] \n",
        "  # for both the class.\n",
        "    if unique_features_test[i] in response_table.keys():\n",
        "      d_1[unique_features_test[i]] = response_table.get(unique_features_test[i])\n",
        "    else:\n",
        "      d_1[unique_features_test[i]] = [0.5,0.5]\n",
        "  return d_1\n"
      ],
      "execution_count": 19,
      "outputs": []
    },
    {
      "cell_type": "markdown",
      "metadata": {
        "id": "vTCOCEOuHpAf"
      },
      "source": [
        "**Encoding the categorical feature school_state**\n",
        "\n",
        "\n"
      ]
    },
    {
      "cell_type": "code",
      "metadata": {
        "id": "7OqnZDlmuCKl"
      },
      "source": [
        ""
      ],
      "execution_count": null,
      "outputs": []
    },
    {
      "cell_type": "code",
      "metadata": {
        "id": "KqlMKC3KuB73"
      },
      "source": [
        ""
      ],
      "execution_count": null,
      "outputs": []
    },
    {
      "cell_type": "code",
      "metadata": {
        "id": "-o1nNTNcvaen",
        "outputId": "d1a47e7d-1f83-4069-f89c-e8d5f98a81e4",
        "colab": {
          "base_uri": "https://localhost:8080/",
          "height": 488
        }
      },
      "source": [
        "# ref link for map in the dataframe:- https://pandas.pydata.org/pandas-docs/stable/reference/api/pandas.Series.map.html\n",
        "# ref link:- https://www.mikulskibartosz.name/how-to-split-a-list-inside-a-dataframe-cell-into-rows-in-pandas/\n",
        "\n",
        "school_state_res_table = response_table(X_train,y_train,'school_state')\n",
        "\n",
        "school_data_train = X_train['school_state'].map(school_state_res_table).apply(pd.Series)\n",
        "school_data_test = X_test['school_state'].map(encoding_test(school_state_res_table, X_test, 'school_state')).apply(pd.Series)\n",
        "print(school_data_train)\n",
        "print('='*100)\n",
        "print(school_data_test)"
      ],
      "execution_count": 20,
      "outputs": [
        {
          "output_type": "stream",
          "text": [
            "              0         1\n",
            "18523  0.166667  0.833333\n",
            "3367   0.154494  0.845506\n",
            "42947  0.169557  0.830443\n",
            "43482  0.160126  0.839874\n",
            "31999  0.187251  0.812749\n",
            "...         ...       ...\n",
            "30761  0.147059  0.852941\n",
            "14670  0.162621  0.837379\n",
            "27717  0.151579  0.848421\n",
            "33357  0.201250  0.798750\n",
            "21237  0.138749  0.861251\n",
            "\n",
            "[33500 rows x 2 columns]\n",
            "====================================================================================================\n",
            "              0         1\n",
            "29218  0.146006  0.853994\n",
            "48304  0.169761  0.830239\n",
            "23398  0.159320  0.840680\n",
            "18471  0.136250  0.863750\n",
            "7575   0.163175  0.836825\n",
            "...         ...       ...\n",
            "33503  0.162621  0.837379\n",
            "1158   0.169557  0.830443\n",
            "25105  0.151579  0.848421\n",
            "1262   0.147059  0.852941\n",
            "42216  0.169770  0.830230\n",
            "\n",
            "[16500 rows x 2 columns]\n"
          ],
          "name": "stdout"
        }
      ]
    },
    {
      "cell_type": "markdown",
      "metadata": {
        "id": "CuzEL4a2JyIm"
      },
      "source": [
        "**Encoding the categorical feature teacher_prefix**\n"
      ]
    },
    {
      "cell_type": "code",
      "metadata": {
        "id": "8IwwPtV8Hyti",
        "outputId": "7c92a4f0-d4c0-4aee-99ae-a665aa9faf63",
        "colab": {
          "base_uri": "https://localhost:8080/",
          "height": 488
        }
      },
      "source": [
        "teacher_prefix_res_table = response_table(X_train,y_train,'teacher_prefix')\n",
        "\n",
        "teacher_prefix_train = X_train['teacher_prefix'].map(teacher_prefix_res_table).apply(pd.Series)\n",
        "teacher_prefix_test = X_test['teacher_prefix'].map(encoding_test(teacher_prefix_res_table, X_test, 'teacher_prefix')).apply(pd.Series)\n",
        "print(teacher_prefix_train)\n",
        "print('='*100)\n",
        "print(teacher_prefix_test)"
      ],
      "execution_count": 21,
      "outputs": [
        {
          "output_type": "stream",
          "text": [
            "              0         1\n",
            "18523  0.151966  0.848034\n",
            "3367   0.168930  0.831070\n",
            "42947  0.151966  0.848034\n",
            "43482  0.151966  0.848034\n",
            "31999  0.168930  0.831070\n",
            "...         ...       ...\n",
            "30761  0.151966  0.848034\n",
            "14670  0.168930  0.831070\n",
            "27717  0.151966  0.848034\n",
            "33357  0.160737  0.839263\n",
            "21237  0.168930  0.831070\n",
            "\n",
            "[33500 rows x 2 columns]\n",
            "====================================================================================================\n",
            "              0         1\n",
            "29218  0.151966  0.848034\n",
            "48304  0.160737  0.839263\n",
            "23398  0.151966  0.848034\n",
            "18471  0.168930  0.831070\n",
            "7575   0.151966  0.848034\n",
            "...         ...       ...\n",
            "33503  0.160737  0.839263\n",
            "1158   0.168930  0.831070\n",
            "25105  0.168930  0.831070\n",
            "1262   0.160737  0.839263\n",
            "42216  0.168930  0.831070\n",
            "\n",
            "[16500 rows x 2 columns]\n"
          ],
          "name": "stdout"
        }
      ]
    },
    {
      "cell_type": "markdown",
      "metadata": {
        "id": "s6ZcvHNiJ3m4"
      },
      "source": [
        "**Encoding the categorical feature project_grade_category**\n"
      ]
    },
    {
      "cell_type": "code",
      "metadata": {
        "id": "VhhvTGBrHzEm",
        "outputId": "3b0c95b2-7b73-484c-e5ac-b530a0d760d7",
        "colab": {
          "base_uri": "https://localhost:8080/",
          "height": 488
        }
      },
      "source": [
        "project_grade_category_res_table = response_table(X_train,y_train,'project_grade_category')\n",
        "\n",
        "project_grade_category_train = X_train['project_grade_category'].map(project_grade_category_res_table).apply(pd.Series)\n",
        "project_grade_category_test = X_test['project_grade_category'].map(encoding_test(project_grade_category_res_table, X_test, 'project_grade_category')).apply(pd.Series)\n",
        "print(project_grade_category_train)\n",
        "print('='*100)\n",
        "print(project_grade_category_test)\n"
      ],
      "execution_count": 22,
      "outputs": [
        {
          "output_type": "stream",
          "text": [
            "              0         1\n",
            "18523  0.163223  0.836777\n",
            "3367   0.163223  0.836777\n",
            "42947  0.151266  0.848734\n",
            "43482  0.151266  0.848734\n",
            "31999  0.151266  0.848734\n",
            "...         ...       ...\n",
            "30761  0.151266  0.848734\n",
            "14670  0.163223  0.836777\n",
            "27717  0.163223  0.836777\n",
            "33357  0.169852  0.830148\n",
            "21237  0.163223  0.836777\n",
            "\n",
            "[33500 rows x 2 columns]\n",
            "====================================================================================================\n",
            "              0         1\n",
            "29218  0.163223  0.836777\n",
            "48304  0.163194  0.836806\n",
            "23398  0.163223  0.836777\n",
            "18471  0.163223  0.836777\n",
            "7575   0.163223  0.836777\n",
            "...         ...       ...\n",
            "33503  0.163223  0.836777\n",
            "1158   0.151266  0.848734\n",
            "25105  0.151266  0.848734\n",
            "1262   0.151266  0.848734\n",
            "42216  0.151266  0.848734\n",
            "\n",
            "[16500 rows x 2 columns]\n"
          ],
          "name": "stdout"
        }
      ]
    },
    {
      "cell_type": "markdown",
      "metadata": {
        "id": "bexuNynbJ8ha"
      },
      "source": [
        "**Encoding the categorical feature clean_categories**\n"
      ]
    },
    {
      "cell_type": "code",
      "metadata": {
        "id": "FzkjAN0THyg1",
        "outputId": "707b3072-5a9b-4a24-829e-fe64e9d8d781",
        "colab": {
          "base_uri": "https://localhost:8080/",
          "height": 488
        }
      },
      "source": [
        "clean_categories_res_table = response_table(X_train,y_train,'clean_categories')\n",
        "\n",
        "clean_categories_train = X_train['clean_categories'].map(clean_categories_res_table).apply(pd.Series)\n",
        "clean_categories_test = X_test['clean_categories'].map(encoding_test(clean_categories_res_table, X_test, 'clean_categories')).apply(pd.Series)\n",
        "print(clean_categories_train)\n",
        "print('='*100)\n",
        "print(clean_categories_test)\n"
      ],
      "execution_count": 23,
      "outputs": [
        {
          "output_type": "stream",
          "text": [
            "              0         1\n",
            "18523  0.156791  0.843209\n",
            "3367   0.168116  0.831884\n",
            "42947  0.197880  0.802120\n",
            "43482  0.136616  0.863384\n",
            "31999  0.145552  0.854448\n",
            "...         ...       ...\n",
            "30761  0.145552  0.854448\n",
            "14670  0.122905  0.877095\n",
            "27717  0.145552  0.854448\n",
            "33357  0.136616  0.863384\n",
            "21237  0.145552  0.854448\n",
            "\n",
            "[33500 rows x 2 columns]\n",
            "====================================================================================================\n",
            "              0         1\n",
            "29218  0.140162  0.859838\n",
            "48304  0.198719  0.801281\n",
            "23398  0.136616  0.863384\n",
            "18471  0.188082  0.811918\n",
            "7575   0.156791  0.843209\n",
            "...         ...       ...\n",
            "33503  0.140162  0.859838\n",
            "1158   0.145552  0.854448\n",
            "25105  0.198719  0.801281\n",
            "1262   0.125000  0.875000\n",
            "42216  0.140629  0.859371\n",
            "\n",
            "[16500 rows x 2 columns]\n"
          ],
          "name": "stdout"
        }
      ]
    },
    {
      "cell_type": "markdown",
      "metadata": {
        "id": "f6uQV-qGKAqw"
      },
      "source": [
        "**Encoding the categorical feature clean_subcategories**\n"
      ]
    },
    {
      "cell_type": "code",
      "metadata": {
        "id": "KO1kIbC7IYIi",
        "outputId": "c6e3b3f0-2c32-4dc2-8b78-43f0d16e97b0",
        "colab": {
          "base_uri": "https://localhost:8080/",
          "height": 488
        }
      },
      "source": [
        "clean_subcategories_res_table = response_table(X_train,y_train,'clean_subcategories')\n",
        "\n",
        "clean_subcategories_train = X_train['clean_subcategories'].map(clean_subcategories_res_table).apply(pd.Series)\n",
        "clean_subcategories_test = X_test['clean_subcategories'].map(encoding_test(clean_subcategories_res_table, X_test, 'clean_subcategories')).apply(pd.Series)\n",
        "print(clean_subcategories_train)\n",
        "print('='*100)\n",
        "print(clean_subcategories_test)\n"
      ],
      "execution_count": 24,
      "outputs": [
        {
          "output_type": "stream",
          "text": [
            "              0         1\n",
            "18523  0.183844  0.816156\n",
            "3367   0.176471  0.823529\n",
            "42947  0.197880  0.802120\n",
            "43482  0.164103  0.835897\n",
            "31999  0.129898  0.870102\n",
            "...         ...       ...\n",
            "30761  0.154454  0.845546\n",
            "14670  0.125000  0.875000\n",
            "27717  0.129898  0.870102\n",
            "33357  0.164103  0.835897\n",
            "21237  0.154454  0.845546\n",
            "\n",
            "[33500 rows x 2 columns]\n",
            "====================================================================================================\n",
            "              0         1\n",
            "29218  0.119515  0.880485\n",
            "48304  0.204804  0.795196\n",
            "23398  0.164103  0.835897\n",
            "18471  0.214286  0.785714\n",
            "7575   0.142020  0.857980\n",
            "...         ...       ...\n",
            "33503  0.119515  0.880485\n",
            "1158   0.129898  0.870102\n",
            "25105  0.204804  0.795196\n",
            "1262   0.098039  0.901961\n",
            "42216  0.147071  0.852929\n",
            "\n",
            "[16500 rows x 2 columns]\n"
          ],
          "name": "stdout"
        }
      ]
    },
    {
      "cell_type": "markdown",
      "metadata": {
        "id": "kdqPEo4k_N43"
      },
      "source": [
        "**Encoding numerical feature : price**"
      ]
    },
    {
      "cell_type": "code",
      "metadata": {
        "id": "bInRdvFGrZh5",
        "outputId": "b81521f1-0967-480a-e770-5fff63d7f01e",
        "colab": {
          "base_uri": "https://localhost:8080/",
          "height": 82
        }
      },
      "source": [
        "from sklearn.preprocessing import Normalizer\n",
        "normalizer = Normalizer()\n",
        "# normalizer.fit(X_train['price'].values)\n",
        "# this will rise an error Expected 2D array, got 1D array instead: \n",
        "# array=[105.22 215.96  96.01 ... 368.98  80.53 709.67].\n",
        "# Reshape your data either using \n",
        "# array.reshape(-1, 1) if your data has a single feature \n",
        "# array.reshape(1, -1)  if it contains a single sample.\n",
        "normalizer.fit(X_train['price'].values.reshape(1,-1))\n",
        "\n",
        "X_train_price_norm = normalizer.transform(X_train['price'].values.reshape(1,-1))\n",
        "X_test_price_norm = normalizer.transform(X_test['price'].values.reshape(1,-1))\n",
        "\n",
        "X_train_price_norm = X_train_price_norm.reshape(-1,1)\n",
        "X_test_price_norm = X_test_price_norm.reshape(-1,1)\n",
        "\n",
        "print(\"After vectorizations\")\n",
        "print(X_train_price_norm.shape, y_train.shape)\n",
        "print(X_test_price_norm.shape, y_test.shape)\n",
        "print(\"=\"*100)"
      ],
      "execution_count": 25,
      "outputs": [
        {
          "output_type": "stream",
          "text": [
            "After vectorizations\n",
            "(33500, 1) (33500,)\n",
            "(16500, 1) (16500,)\n",
            "====================================================================================================\n"
          ],
          "name": "stdout"
        }
      ]
    },
    {
      "cell_type": "markdown",
      "metadata": {
        "id": "vHPUG3MT_Tji"
      },
      "source": [
        "**Encoding numerical feature : teacher no. of previously posted projects**"
      ]
    },
    {
      "cell_type": "code",
      "metadata": {
        "id": "3LfLlB9DrZes",
        "outputId": "d0bebfdd-9c1f-4500-8ed6-856b1bedbc7b",
        "colab": {
          "base_uri": "https://localhost:8080/",
          "height": 82
        }
      },
      "source": [
        "from sklearn.preprocessing import Normalizer\n",
        "normalizer = Normalizer()\n",
        "# normalizer.fit(X_train['price'].values)\n",
        "# this will rise an error Expected 2D array, got 1D array instead: \n",
        "# array=[105.22 215.96  96.01 ... 368.98  80.53 709.67].\n",
        "# Reshape your data either using \n",
        "# array.reshape(-1, 1) if your data has a single feature \n",
        "# array.reshape(1, -1)  if it contains a single sample.\n",
        "normalizer.fit(X_train['teacher_number_of_previously_posted_projects'].values.reshape(1,-1))\n",
        "\n",
        "X_train_teacher_number_of_previously_posted_projects_norm = normalizer.transform(X_train['teacher_number_of_previously_posted_projects'].values.reshape(1,-1))\n",
        "X_test_teacher_number_of_previously_posted_projects_norm = normalizer.transform(X_test['teacher_number_of_previously_posted_projects'].values.reshape(1,-1))\n",
        "\n",
        "X_train_teacher_number_of_previously_posted_projects_norm = X_train_teacher_number_of_previously_posted_projects_norm.reshape(-1,1)\n",
        "X_test_teacher_number_of_previously_posted_projects_norm = X_test_teacher_number_of_previously_posted_projects_norm.reshape(-1,1)\n",
        "\n",
        "print(\"After vectorizations\")\n",
        "print(X_train_teacher_number_of_previously_posted_projects_norm.shape, y_train.shape)\n",
        "print(X_test_teacher_number_of_previously_posted_projects_norm.shape, y_test.shape)\n",
        "print(\"=\"*100)"
      ],
      "execution_count": 26,
      "outputs": [
        {
          "output_type": "stream",
          "text": [
            "After vectorizations\n",
            "(33500, 1) (33500,)\n",
            "(16500, 1) (16500,)\n",
            "====================================================================================================\n"
          ],
          "name": "stdout"
        }
      ]
    },
    {
      "cell_type": "markdown",
      "metadata": {
        "id": "OKkAo7OWWLp0"
      },
      "source": [
        "<h2>1.5 Calculating Sentiment Score for preprocessed essay</h2>\n"
      ]
    },
    {
      "cell_type": "code",
      "metadata": {
        "id": "q88qFyiuWa4k"
      },
      "source": [
        "# Sentiment Score from the X_train data \n",
        "SS_train = pd.DataFrame(dict(X_train['essay'].apply(lambda x : sid.polarity_scores(x)))).transpose()\n"
      ],
      "execution_count": 27,
      "outputs": []
    },
    {
      "cell_type": "code",
      "metadata": {
        "id": "bTR2Kv9CMWTK",
        "outputId": "34abe035-1db4-4d8e-9377-ed134b3d5219",
        "colab": {
          "base_uri": "https://localhost:8080/",
          "height": 191
        }
      },
      "source": [
        "SS_train.head()"
      ],
      "execution_count": 28,
      "outputs": [
        {
          "output_type": "execute_result",
          "data": {
            "text/html": [
              "<div>\n",
              "<style scoped>\n",
              "    .dataframe tbody tr th:only-of-type {\n",
              "        vertical-align: middle;\n",
              "    }\n",
              "\n",
              "    .dataframe tbody tr th {\n",
              "        vertical-align: top;\n",
              "    }\n",
              "\n",
              "    .dataframe thead th {\n",
              "        text-align: right;\n",
              "    }\n",
              "</style>\n",
              "<table border=\"1\" class=\"dataframe\">\n",
              "  <thead>\n",
              "    <tr style=\"text-align: right;\">\n",
              "      <th></th>\n",
              "      <th>neg</th>\n",
              "      <th>neu</th>\n",
              "      <th>pos</th>\n",
              "      <th>compound</th>\n",
              "    </tr>\n",
              "  </thead>\n",
              "  <tbody>\n",
              "    <tr>\n",
              "      <th>18523</th>\n",
              "      <td>0.013</td>\n",
              "      <td>0.587</td>\n",
              "      <td>0.400</td>\n",
              "      <td>0.9951</td>\n",
              "    </tr>\n",
              "    <tr>\n",
              "      <th>3367</th>\n",
              "      <td>0.000</td>\n",
              "      <td>0.663</td>\n",
              "      <td>0.337</td>\n",
              "      <td>0.9974</td>\n",
              "    </tr>\n",
              "    <tr>\n",
              "      <th>42947</th>\n",
              "      <td>0.000</td>\n",
              "      <td>0.774</td>\n",
              "      <td>0.226</td>\n",
              "      <td>0.9826</td>\n",
              "    </tr>\n",
              "    <tr>\n",
              "      <th>43482</th>\n",
              "      <td>0.067</td>\n",
              "      <td>0.705</td>\n",
              "      <td>0.228</td>\n",
              "      <td>0.9894</td>\n",
              "    </tr>\n",
              "    <tr>\n",
              "      <th>31999</th>\n",
              "      <td>0.013</td>\n",
              "      <td>0.713</td>\n",
              "      <td>0.275</td>\n",
              "      <td>0.9945</td>\n",
              "    </tr>\n",
              "  </tbody>\n",
              "</table>\n",
              "</div>"
            ],
            "text/plain": [
              "         neg    neu    pos  compound\n",
              "18523  0.013  0.587  0.400    0.9951\n",
              "3367   0.000  0.663  0.337    0.9974\n",
              "42947  0.000  0.774  0.226    0.9826\n",
              "43482  0.067  0.705  0.228    0.9894\n",
              "31999  0.013  0.713  0.275    0.9945"
            ]
          },
          "metadata": {
            "tags": []
          },
          "execution_count": 28
        }
      ]
    },
    {
      "cell_type": "code",
      "metadata": {
        "id": "SmcusuVPl5oC"
      },
      "source": [
        "# Sentiment Score from the X_train data \n",
        "SS_test = pd.DataFrame(dict(X_test['essay'].apply(lambda x : sid.polarity_scores(x)))).transpose()\n"
      ],
      "execution_count": 29,
      "outputs": []
    },
    {
      "cell_type": "code",
      "metadata": {
        "id": "Vh6fjeYCMzh8",
        "outputId": "a77ce079-5c1f-44eb-ca24-2893a14d2c40",
        "colab": {
          "base_uri": "https://localhost:8080/",
          "height": 191
        }
      },
      "source": [
        "SS_test.head()"
      ],
      "execution_count": 30,
      "outputs": [
        {
          "output_type": "execute_result",
          "data": {
            "text/html": [
              "<div>\n",
              "<style scoped>\n",
              "    .dataframe tbody tr th:only-of-type {\n",
              "        vertical-align: middle;\n",
              "    }\n",
              "\n",
              "    .dataframe tbody tr th {\n",
              "        vertical-align: top;\n",
              "    }\n",
              "\n",
              "    .dataframe thead th {\n",
              "        text-align: right;\n",
              "    }\n",
              "</style>\n",
              "<table border=\"1\" class=\"dataframe\">\n",
              "  <thead>\n",
              "    <tr style=\"text-align: right;\">\n",
              "      <th></th>\n",
              "      <th>neg</th>\n",
              "      <th>neu</th>\n",
              "      <th>pos</th>\n",
              "      <th>compound</th>\n",
              "    </tr>\n",
              "  </thead>\n",
              "  <tbody>\n",
              "    <tr>\n",
              "      <th>29218</th>\n",
              "      <td>0.065</td>\n",
              "      <td>0.675</td>\n",
              "      <td>0.261</td>\n",
              "      <td>0.9810</td>\n",
              "    </tr>\n",
              "    <tr>\n",
              "      <th>48304</th>\n",
              "      <td>0.021</td>\n",
              "      <td>0.725</td>\n",
              "      <td>0.254</td>\n",
              "      <td>0.9901</td>\n",
              "    </tr>\n",
              "    <tr>\n",
              "      <th>23398</th>\n",
              "      <td>0.010</td>\n",
              "      <td>0.641</td>\n",
              "      <td>0.349</td>\n",
              "      <td>0.9916</td>\n",
              "    </tr>\n",
              "    <tr>\n",
              "      <th>18471</th>\n",
              "      <td>0.066</td>\n",
              "      <td>0.581</td>\n",
              "      <td>0.352</td>\n",
              "      <td>0.9933</td>\n",
              "    </tr>\n",
              "    <tr>\n",
              "      <th>7575</th>\n",
              "      <td>0.057</td>\n",
              "      <td>0.629</td>\n",
              "      <td>0.314</td>\n",
              "      <td>0.9899</td>\n",
              "    </tr>\n",
              "  </tbody>\n",
              "</table>\n",
              "</div>"
            ],
            "text/plain": [
              "         neg    neu    pos  compound\n",
              "29218  0.065  0.675  0.261    0.9810\n",
              "48304  0.021  0.725  0.254    0.9901\n",
              "23398  0.010  0.641  0.349    0.9916\n",
              "18471  0.066  0.581  0.352    0.9933\n",
              "7575   0.057  0.629  0.314    0.9899"
            ]
          },
          "metadata": {
            "tags": []
          },
          "execution_count": 30
        }
      ]
    },
    {
      "cell_type": "markdown",
      "metadata": {
        "id": "O71B8lg2_dTb"
      },
      "source": [
        "**Concatinating all the features using the TFIDF essay which is SET1**\n",
        "\n",
        "\n",
        "\n"
      ]
    },
    {
      "cell_type": "code",
      "metadata": {
        "id": "G_g1blDgsOZe",
        "outputId": "2aff0173-e845-48e0-db20-0757ffbbe3ab",
        "colab": {
          "base_uri": "https://localhost:8080/",
          "height": 82
        }
      },
      "source": [
        "# merge two sparse matrices: https://stackoverflow.com/a/19710648/4084039\n",
        "from scipy.sparse import hstack\n",
        "\n",
        "X_tr_set1 = hstack((X_train_essay_tfidf, school_data_train, teacher_prefix_train, project_grade_category_train, clean_categories_train, clean_subcategories_train, X_train_price_norm, X_train_teacher_number_of_previously_posted_projects_norm, np.array(SS_train))).tocsr()\n",
        "X_te_set1 = hstack((X_test_essay_tfidf, school_data_test, teacher_prefix_test, project_grade_category_test, clean_categories_test, clean_subcategories_test, X_test_price_norm, X_test_teacher_number_of_previously_posted_projects_norm, np.array(SS_test))).tocsr()\n",
        "\n",
        "print(\"Final Data matrix\")\n",
        "print(X_tr_set1.shape, y_train.shape)\n",
        "print(\"=\"*100)\n",
        "print(X_te_set1.shape, y_test.shape)"
      ],
      "execution_count": 31,
      "outputs": [
        {
          "output_type": "stream",
          "text": [
            "Final Data matrix\n",
            "(33500, 10016) (33500,)\n",
            "====================================================================================================\n",
            "(16500, 10016) (16500,)\n"
          ],
          "name": "stdout"
        }
      ]
    },
    {
      "cell_type": "markdown",
      "metadata": {
        "id": "J2DIQ19J_wFH"
      },
      "source": [
        "**Concatinating all the features using the TFIDF W2V essay which is SET2**\n"
      ]
    },
    {
      "cell_type": "code",
      "metadata": {
        "id": "cL0upo_xoG6m",
        "outputId": "b72545d6-472a-4867-e9d4-a5395bf10ba3",
        "colab": {
          "base_uri": "https://localhost:8080/",
          "height": 82
        }
      },
      "source": [
        "# merge two sparse matrices: https://stackoverflow.com/a/19710648/4084039\n",
        "from scipy.sparse import hstack\n",
        "X_tr_set2 = hstack((np.asarray(tfidf_w2v_vectors_X_train), school_data_train, teacher_prefix_train, project_grade_category_train, clean_categories_train, clean_subcategories_train, X_train_price_norm, X_train_teacher_number_of_previously_posted_projects_norm)).tocsr()\n",
        "X_te_set2 = hstack((np.asarray(tfidf_w2v_vectors_X_test), school_data_test, teacher_prefix_test, project_grade_category_test, clean_categories_test, clean_subcategories_test, X_test_price_norm, X_test_teacher_number_of_previously_posted_projects_norm)).tocsr()\n",
        "\n",
        "print(\"Final Data matrix\")\n",
        "print(X_tr_set2.shape, y_train.shape)\n",
        "print(\"=\"*100)\n",
        "print(X_te_set2.shape, y_test.shape)"
      ],
      "execution_count": 32,
      "outputs": [
        {
          "output_type": "stream",
          "text": [
            "Final Data matrix\n",
            "(33500, 312) (33500,)\n",
            "====================================================================================================\n",
            "(16500, 312) (16500,)\n"
          ],
          "name": "stdout"
        }
      ]
    },
    {
      "cell_type": "markdown",
      "metadata": {
        "id": "I5wDFj17sc3-"
      },
      "source": [
        "<h2>1.6 Appling Models on different kind of featurization as mentioned in the instructions</h2>"
      ]
    },
    {
      "cell_type": "markdown",
      "metadata": {
        "id": "O5tWox1jsc3_"
      },
      "source": [
        "<br>Apply GBDT on different kind of featurization as mentioned in the instructions\n",
        "<br> For Every model that you work on make sure you do the step 2 and step 3 of instrucations"
      ]
    },
    {
      "cell_type": "code",
      "metadata": {
        "id": "ARWulYUwsc4B"
      },
      "source": [
        "# please write all the code with proper documentation, and proper titles for each subsection\n",
        "# go through documentations and blogs before you start coding\n",
        "# first figure out what to do, and then think about how to do.\n",
        "# reading and understanding error messages will be very much helpfull in debugging your code\n",
        "# when you plot any graph make sure you use \n",
        "    # a. Title, that describes your plot, this will be very helpful to the reader\n",
        "    # b. Legends if needed\n",
        "    # c. X-axis label\n",
        "    # d. Y-axis label    "
      ],
      "execution_count": 33,
      "outputs": []
    },
    {
      "cell_type": "markdown",
      "metadata": {
        "id": "wmmdSSYH0S14"
      },
      "source": [
        "**Hyperparameter Tunning**"
      ]
    },
    {
      "cell_type": "markdown",
      "metadata": {
        "id": "4l8KQog00aQi"
      },
      "source": [
        "Using Set 1"
      ]
    },
    {
      "cell_type": "code",
      "metadata": {
        "id": "126Am6KKraAJ",
        "outputId": "ed9b5dfc-db2c-4426-a677-9b230b72aeaf",
        "colab": {
          "base_uri": "https://localhost:8080/",
          "height": 310
        }
      },
      "source": [
        "from lightgbm import LGBMClassifier\n",
        "from sklearn.model_selection import GridSearchCV\n",
        "from matplotlib import pyplot as plt\n",
        "\n",
        "LGBM = LGBMClassifier()\n",
        "learning_rate = [0.001, 0.003, 0.005, 0.007]\n",
        "n_estimators = [100, 120, 150, 180]\n",
        "param_distribution = {'learning_rate':learning_rate, 'n_estimators':n_estimators}\n",
        "\n",
        "clf = GridSearchCV(estimator= LGBM, param_grid= param_distribution, cv=3, scoring='roc_auc', return_train_score=True, n_jobs=-1)\n",
        "clf.fit(X_tr_set1, y_train)\n"
      ],
      "execution_count": 34,
      "outputs": [
        {
          "output_type": "execute_result",
          "data": {
            "text/plain": [
              "GridSearchCV(cv=3, error_score=nan,\n",
              "             estimator=LGBMClassifier(boosting_type='gbdt', class_weight=None,\n",
              "                                      colsample_bytree=1.0,\n",
              "                                      importance_type='split',\n",
              "                                      learning_rate=0.1, max_depth=-1,\n",
              "                                      min_child_samples=20,\n",
              "                                      min_child_weight=0.001,\n",
              "                                      min_split_gain=0.0, n_estimators=100,\n",
              "                                      n_jobs=-1, num_leaves=31, objective=None,\n",
              "                                      random_state=None, reg_alpha=0.0,\n",
              "                                      reg_lambda=0.0, silent=True,\n",
              "                                      subsample=1.0, subsample_for_bin=200000,\n",
              "                                      subsample_freq=0),\n",
              "             iid='deprecated', n_jobs=-1,\n",
              "             param_grid={'learning_rate': [0.001, 0.003, 0.005, 0.007],\n",
              "                         'n_estimators': [100, 120, 150, 180]},\n",
              "             pre_dispatch='2*n_jobs', refit=True, return_train_score=True,\n",
              "             scoring='roc_auc', verbose=0)"
            ]
          },
          "metadata": {
            "tags": []
          },
          "execution_count": 34
        }
      ]
    },
    {
      "cell_type": "code",
      "metadata": {
        "id": "c19-3ztXll6x",
        "outputId": "3cfac54b-4734-40f5-b943-eaccf1b8c4f6",
        "colab": {
          "base_uri": "https://localhost:8080/",
          "height": 328
        }
      },
      "source": [
        "results_set1 = pd.DataFrame.from_dict(clf.cv_results_)\n",
        "results_set1 = results_set1.sort_values(['param_learning_rate'])\n",
        "\n",
        "train_auc= results_set1['mean_train_score']\n",
        "train_auc_std= results_set1['std_train_score']\n",
        "cv_auc = results_set1['mean_test_score'] \n",
        "cv_auc_std= results_set1['std_test_score']\n",
        "learning_rate =  results_set1['param_learning_rate']\n",
        "\n",
        "plt.plot(learning_rate, train_auc, label='Train AUC')\n",
        "# this code is copied from here: https://stackoverflow.com/a/48803361/4084039\n",
        "# plt.gca().fill_between(K, train_auc - train_auc_std,train_auc + train_auc_std,alpha=0.2,color='darkblue')\n",
        "\n",
        "plt.plot(learning_rate, cv_auc, label='CV AUC')\n",
        "# this code is copied from here: https://stackoverflow.com/a/48803361/4084039\n",
        "# plt.gca().fill_between(K, cv_auc - cv_auc_std,cv_auc + cv_auc_std,alpha=0.2,color='darkorange')\n",
        "\n",
        "plt.scatter(learning_rate, train_auc, label='Train AUC points')\n",
        "plt.scatter(learning_rate, cv_auc, label='CV AUC points')\n",
        "\n",
        "plt.legend()\n",
        "plt.xlabel(\"learning_rate : Hyperparameter\")\n",
        "plt.ylabel(\"AUC\")\n",
        "plt.title(\"Hyper parameter Vs AUC plot\")\n",
        "plt.grid()\n",
        "plt.show()\n",
        "\n",
        "print(clf.best_params_)\n",
        "print(clf.best_score_)"
      ],
      "execution_count": 35,
      "outputs": [
        {
          "output_type": "display_data",
          "data": {
            "image/png": "[encoded data removed]",
            "text/plain": [
              "<Figure size 432x288 with 1 Axes>"
            ]
          },
          "metadata": {
            "tags": [],
            "needs_background": "light"
          }
        },
        {
          "output_type": "stream",
          "text": [
            "{'learning_rate': 0.007, 'n_estimators': 180}\n",
            "0.6969168472344599\n"
          ],
          "name": "stdout"
        }
      ]
    },
    {
      "cell_type": "markdown",
      "metadata": {
        "id": "ulbc9w602Amm"
      },
      "source": [
        "Using Set 2"
      ]
    },
    {
      "cell_type": "code",
      "metadata": {
        "id": "VURd3p6h1_uc",
        "outputId": "0a5d3c35-e1c8-4989-ba86-6bb05953bc50",
        "colab": {
          "base_uri": "https://localhost:8080/",
          "height": 310
        }
      },
      "source": [
        "clf_2 = GridSearchCV(estimator= LGBM, param_grid= param_distribution, cv=3, scoring='roc_auc', return_train_score=True, n_jobs=-1)\n",
        "clf_2.fit(X_tr_set2, y_train)"
      ],
      "execution_count": 36,
      "outputs": [
        {
          "output_type": "execute_result",
          "data": {
            "text/plain": [
              "GridSearchCV(cv=3, error_score=nan,\n",
              "             estimator=LGBMClassifier(boosting_type='gbdt', class_weight=None,\n",
              "                                      colsample_bytree=1.0,\n",
              "                                      importance_type='split',\n",
              "                                      learning_rate=0.1, max_depth=-1,\n",
              "                                      min_child_samples=20,\n",
              "                                      min_child_weight=0.001,\n",
              "                                      min_split_gain=0.0, n_estimators=100,\n",
              "                                      n_jobs=-1, num_leaves=31, objective=None,\n",
              "                                      random_state=None, reg_alpha=0.0,\n",
              "                                      reg_lambda=0.0, silent=True,\n",
              "                                      subsample=1.0, subsample_for_bin=200000,\n",
              "                                      subsample_freq=0),\n",
              "             iid='deprecated', n_jobs=-1,\n",
              "             param_grid={'learning_rate': [0.001, 0.003, 0.005, 0.007],\n",
              "                         'n_estimators': [100, 120, 150, 180]},\n",
              "             pre_dispatch='2*n_jobs', refit=True, return_train_score=True,\n",
              "             scoring='roc_auc', verbose=0)"
            ]
          },
          "metadata": {
            "tags": []
          },
          "execution_count": 36
        }
      ]
    },
    {
      "cell_type": "code",
      "metadata": {
        "id": "4v67ui_O1_pJ",
        "outputId": "f568255b-9b65-4498-9a0b-30c269b29daa",
        "colab": {
          "base_uri": "https://localhost:8080/",
          "height": 328
        }
      },
      "source": [
        "results_set2 = pd.DataFrame.from_dict(clf_2.cv_results_)\n",
        "results_set2 = results_set1.sort_values(['param_learning_rate'])\n",
        "\n",
        "train_auc= results_set2['mean_train_score']\n",
        "train_auc_std= results_set2['std_train_score']\n",
        "cv_auc = results_set2['mean_test_score'] \n",
        "cv_auc_std= results_set2['std_test_score']\n",
        "learning_rate =  results_set2['param_learning_rate']\n",
        "\n",
        "plt.plot(learning_rate, train_auc, label='Train AUC')\n",
        "# this code is copied from here: https://stackoverflow.com/a/48803361/4084039\n",
        "# plt.gca().fill_between(K, train_auc - train_auc_std,train_auc + train_auc_std,alpha=0.2,color='darkblue')\n",
        "\n",
        "plt.plot(learning_rate, cv_auc, label='CV AUC')\n",
        "# this code is copied from here: https://stackoverflow.com/a/48803361/4084039\n",
        "# plt.gca().fill_between(K, cv_auc - cv_auc_std,cv_auc + cv_auc_std,alpha=0.2,color='darkorange')\n",
        "\n",
        "plt.scatter(learning_rate, train_auc, label='Train AUC points')\n",
        "plt.scatter(learning_rate, cv_auc, label='CV AUC points')\n",
        "\n",
        "plt.legend()\n",
        "plt.xlabel(\"max_depth : Hyperparameter\")\n",
        "plt.ylabel(\"AUC\")\n",
        "plt.title(\"Hyper parameter Vs AUC plot\")\n",
        "plt.grid()\n",
        "plt.show()\n",
        "\n",
        "print(clf_2.best_params_)\n",
        "print(clf_2.best_score_)"
      ],
      "execution_count": 37,
      "outputs": [
        {
          "output_type": "display_data",
          "data": {
            "image/png": "[encoded data removed]",
            "text/plain": [
              "<Figure size 432x288 with 1 Axes>"
            ]
          },
          "metadata": {
            "tags": [],
            "needs_background": "light"
          }
        },
        {
          "output_type": "stream",
          "text": [
            "{'learning_rate': 0.007, 'n_estimators': 180}\n",
            "0.6910232972613072\n"
          ],
          "name": "stdout"
        }
      ]
    },
    {
      "cell_type": "code",
      "metadata": {
        "id": "NMM4s0q7yS8M"
      },
      "source": [
        ""
      ],
      "execution_count": 37,
      "outputs": []
    },
    {
      "cell_type": "markdown",
      "metadata": {
        "id": "6Vf8lIMr-SQb"
      },
      "source": [
        "\n",
        "\n",
        "<h2>3 Representation of results<h2>"
      ]
    },
    {
      "cell_type": "code",
      "metadata": {
        "id": "mzbu-Ca_Js2d",
        "outputId": "f72e286c-62cc-49de-fde1-8511486475cd",
        "colab": {
          "base_uri": "https://localhost:8080/",
          "height": 296
        }
      },
      "source": [
        "# reference for making heatmap: https://stackoverflow.com/questions/56302647/how-to-plot-a-heatmap-and-find-best-hyperparameter-for-decision-tree-after-grids\n",
        "\n",
        "import seaborn as sns\n",
        "max_auc_set1 = results_set1.groupby(['param_learning_rate', 'param_n_estimators']).max()\n",
        "max_auc_set1 = max_auc_set1.unstack()[['mean_test_score', 'mean_train_score']]\n",
        "sns.heatmap(max_auc_set1.mean_test_score, annot=True, fmt='.4g')\n"
      ],
      "execution_count": 38,
      "outputs": [
        {
          "output_type": "execute_result",
          "data": {
            "text/plain": [
              "<matplotlib.axes._subplots.AxesSubplot at 0x7f5d053f50b8>"
            ]
          },
          "metadata": {
            "tags": []
          },
          "execution_count": 38
        },
        {
          "output_type": "display_data",
          "data": {
            "image/png": "[encoded data removed]",
            "text/plain": [
              "<Figure size 432x288 with 2 Axes>"
            ]
          },
          "metadata": {
            "tags": [],
            "needs_background": "light"
          }
        }
      ]
    },
    {
      "cell_type": "code",
      "metadata": {
        "id": "nBT4cGqpqOgB"
      },
      "source": [
        ""
      ],
      "execution_count": 38,
      "outputs": []
    },
    {
      "cell_type": "code",
      "metadata": {
        "id": "M_PKiCWu20QZ",
        "outputId": "053b9861-da81-4fb7-c84f-61921210f93c",
        "colab": {
          "base_uri": "https://localhost:8080/",
          "height": 296
        }
      },
      "source": [
        "max_auc_set2 = results_set2.groupby(['param_learning_rate', 'param_n_estimators']).max()\n",
        "max_auc_set2 = max_auc_set2.unstack()[['mean_test_score', 'mean_train_score']]\n",
        "sns.heatmap(max_auc_set1.mean_test_score, annot=True, fmt='.4g')"
      ],
      "execution_count": 39,
      "outputs": [
        {
          "output_type": "execute_result",
          "data": {
            "text/plain": [
              "<matplotlib.axes._subplots.AxesSubplot at 0x7f5d10f17438>"
            ]
          },
          "metadata": {
            "tags": []
          },
          "execution_count": 39
        },
        {
          "output_type": "display_data",
          "data": {
            "image/png": "[encoded data removed]",
            "text/plain": [
              "<Figure size 432x288 with 2 Axes>"
            ]
          },
          "metadata": {
            "tags": [],
            "needs_background": "light"
          }
        }
      ]
    },
    {
      "cell_type": "code",
      "metadata": {
        "id": "aBMj7SEpqN1T"
      },
      "source": [
        ""
      ],
      "execution_count": 39,
      "outputs": []
    },
    {
      "cell_type": "markdown",
      "metadata": {
        "id": "86VYk7JUpMmV"
      },
      "source": [
        "**Model testing on the best hyperparameters**"
      ]
    },
    {
      "cell_type": "markdown",
      "metadata": {
        "id": "I1I3fiHGnsv1"
      },
      "source": [
        "We got the best hyperparameter from the hyperparameter tunning in which we have \n",
        "used the gridsearch which gave the best value of learning_rate as 0.007 and n_estimator as 180."
      ]
    },
    {
      "cell_type": "markdown",
      "metadata": {
        "id": "-uLorduInoEg"
      },
      "source": [
        "For Set 1 "
      ]
    },
    {
      "cell_type": "code",
      "metadata": {
        "id": "CUb7ChtvnHtR"
      },
      "source": [
        "def batch_predict(clf, data):\n",
        "    # roc_auc_score(y_true, y_score) the 2nd parameter should be probability estimates of the positive class\n",
        "    # not the predicted outputs\n",
        "\n",
        "    y_data_pred = []\n",
        "    tr_loop = data.shape[0] - data.shape[0]%1000\n",
        "    # consider you X_tr shape is 49041, then your tr_loop will be 49041 - 49041%1000 = 49000\n",
        "    # in this for loop we will iterate unti the last 1000 multiplier\n",
        "    for i in range(0, tr_loop, 1000):\n",
        "        y_data_pred.extend(clf.predict_proba(data[i:i+1000])[:,1])\n",
        "    # we will be predicting for the last data points\n",
        "    if data.shape[0]%1000 !=0:\n",
        "        y_data_pred.extend(clf.predict_proba(data[tr_loop:])[:,1])\n",
        "    \n",
        "    return y_data_pred"
      ],
      "execution_count": 40,
      "outputs": []
    },
    {
      "cell_type": "code",
      "metadata": {
        "id": "YJpHgU5D2fAV"
      },
      "source": [
        "best_learning_rate = 0.007\n",
        "best_n_estimators = 180"
      ],
      "execution_count": 50,
      "outputs": []
    },
    {
      "cell_type": "code",
      "metadata": {
        "id": "sz8xFFGhzJAU",
        "outputId": "30dc26f1-3cfe-49dc-b50e-527fa14907e2",
        "colab": {
          "base_uri": "https://localhost:8080/",
          "height": 296
        }
      },
      "source": [
        "from sklearn.metrics import roc_curve, auc\n",
        "\n",
        "LGBM_set1 = LGBMClassifier(learning_rate=best_learning_rate, n_estimators=best_n_estimators)\n",
        "LGBM_set1.fit(X_tr_set1, y_train)\n",
        "\n",
        "y_train_pred_set1 = batch_predict(LGBM_set1, X_tr_set1)    \n",
        "y_test_pred_set1 = batch_predict(LGBM_set1, X_te_set1)\n",
        "\n",
        "train_fpr_set1, train_tpr_set1, tr_thresholds_set1 = roc_curve(y_train, y_train_pred_set1)\n",
        "test_fpr_set1, test_tpr_set1, te_thresholds_set1 = roc_curve(y_test, y_test_pred_set1)\n",
        "\n",
        "plt.plot(train_fpr_set1, train_tpr_set1, label=\"train AUC =\"+str(auc(train_fpr_set1, train_tpr_set1)))\n",
        "plt.plot(test_fpr_set1, test_tpr_set1, label=\"test AUC =\"+str(auc(test_fpr_set1, test_tpr_set1)))\n",
        "plt.legend()\n",
        "plt.xlabel(\"learning_rate : Hyperparameter\")\n",
        "plt.ylabel(\"AUC\")\n",
        "plt.title(\"ERROR PLOTS\")\n",
        "plt.grid()\n",
        "plt.show()\n"
      ],
      "execution_count": 51,
      "outputs": [
        {
          "output_type": "display_data",
          "data": {
            "image/png": "[encoded data removed]",
            "text/plain": [
              "<Figure size 432x288 with 1 Axes>"
            ]
          },
          "metadata": {
            "tags": [],
            "needs_background": "light"
          }
        }
      ]
    },
    {
      "cell_type": "markdown",
      "metadata": {
        "id": "F_cS0kdMpIXF"
      },
      "source": [
        "For Set 2"
      ]
    },
    {
      "cell_type": "code",
      "metadata": {
        "id": "Sir6apsWvl-V"
      },
      "source": [
        "best_learning_rate_2 = 0.007\n",
        "best_n_estimators_2 = 180"
      ],
      "execution_count": 52,
      "outputs": []
    },
    {
      "cell_type": "code",
      "metadata": {
        "id": "vSh02IYh5bLZ",
        "outputId": "7678a36a-2998-4c7c-dde3-5f8f817963a6",
        "colab": {
          "base_uri": "https://localhost:8080/",
          "height": 296
        }
      },
      "source": [
        "from sklearn.metrics import roc_curve, auc\n",
        "\n",
        "LGBM_set2 = LGBMClassifier(learning_rate=best_learning_rate, n_estimators=best_n_estimators)\n",
        "LGBM_set2.fit(X_tr_set2, y_train)\n",
        "\n",
        "y_train_pred_set2 = batch_predict(LGBM_set2, X_tr_set2)    \n",
        "y_test_pred_set2 = batch_predict(LGBM_set2, X_te_set2)\n",
        "\n",
        "train_fpr_set2, train_tpr_set2, tr_thresholds_set2 = roc_curve(y_train, y_train_pred_set2)\n",
        "test_fpr_set2, test_tpr_set2, te_thresholds_set2 = roc_curve(y_test, y_test_pred_set2)\n",
        "\n",
        "plt.plot(train_fpr_set2, train_tpr_set2, label=\"train AUC =\"+str(auc(train_fpr_set2, train_tpr_set2)))\n",
        "plt.plot(test_fpr_set2, test_tpr_set2, label=\"test AUC =\"+str(auc(test_fpr_set2, test_tpr_set2)))\n",
        "plt.legend()\n",
        "plt.xlabel(\"learning_rate : Hyperparameter\")\n",
        "plt.ylabel(\"AUC\")\n",
        "plt.title(\"ERROR PLOTS\")\n",
        "plt.grid()\n",
        "plt.show()\n"
      ],
      "execution_count": 53,
      "outputs": [
        {
          "output_type": "display_data",
          "data": {
            "image/png": "[encoded data removed]",
            "text/plain": [
              "<Figure size 432x288 with 1 Axes>"
            ]
          },
          "metadata": {
            "tags": [],
            "needs_background": "light"
          }
        }
      ]
    },
    {
      "cell_type": "code",
      "metadata": {
        "id": "givyYo1HnQsa"
      },
      "source": [
        "# we are writing our own function for predict, with defined thresould\n",
        "# we will pick a threshold that will give the least fpr\n",
        "def find_best_threshold(threshould, fpr, tpr):\n",
        "    t = threshould[np.argmax(tpr*(1-fpr))]\n",
        "    # (tpr*(1-fpr)) will be maximum if your fpr is very low and tpr is very high\n",
        "    print(\"the maximum value of tpr*(1-fpr)\", max(tpr*(1-fpr)), \"for threshold\", np.round(t,3))\n",
        "    return t\n",
        "\n",
        "def predict_with_best_t(proba, threshould):\n",
        "    predictions = []\n",
        "    for i in proba:\n",
        "        if i>=threshould:\n",
        "            predictions.append(1)\n",
        "        else:\n",
        "            predictions.append(0)\n",
        "    return predictions"
      ],
      "execution_count": 54,
      "outputs": []
    },
    {
      "cell_type": "markdown",
      "metadata": {
        "id": "hAp4YUUQAy9Y"
      },
      "source": [
        "Now we will make the confusion matrix for the train and test."
      ]
    },
    {
      "cell_type": "markdown",
      "metadata": {
        "id": "bnLo0_pKGcGt"
      },
      "source": [
        "Creating confusion matrix for SET1"
      ]
    },
    {
      "cell_type": "code",
      "metadata": {
        "id": "SbCtKQsLoHxy",
        "outputId": "cfb522de-9be5-46c1-f459-105961cdb1d1",
        "colab": {
          "base_uri": "https://localhost:8080/",
          "height": 431
        }
      },
      "source": [
        "print(\"=\"*100)\n",
        "import seaborn as sns\n",
        "import matplotlib.pyplot as plt  \n",
        "from sklearn.metrics import confusion_matrix\n",
        "\n",
        "best_t = find_best_threshold(tr_thresholds_set1, train_fpr_set1, train_tpr_set1)\n",
        "\n",
        "plt.figure(figsize=(15,5))\n",
        "plt.subplot(131) \n",
        "#train confusion matrix\n",
        "train_confusion_matric_set1 =confusion_matrix(y_train, predict_with_best_t(y_train_pred_set1, best_t))\n",
        "sns.heatmap(train_confusion_matric_set1, annot=True,fmt=\"d\",cmap='Blues').set(title='train confusion matrix for Set1',xlabel='Pred',ylabel='True')\n",
        "\n",
        "plt.subplot(132) \n",
        "#test confusion matrix\n",
        "test_confusion_matrix_set1 = confusion_matrix(y_test, predict_with_best_t(y_test_pred_set1, best_t))\n",
        "sns.heatmap(test_confusion_matrix_set1, annot=True,fmt=\"d\",cmap='Oranges').set(title='test confusion matrix for Set1',xlabel='Pred',ylabel='True')\n"
      ],
      "execution_count": 89,
      "outputs": [
        {
          "output_type": "stream",
          "text": [
            "====================================================================================================\n",
            "the maximum value of tpr*(1-fpr) 0.500732167549912 for threshold 0.833\n"
          ],
          "name": "stdout"
        },
        {
          "output_type": "execute_result",
          "data": {
            "text/plain": [
              "[Text(409.4117647058824, 0.5, 'True'),\n",
              " Text(0.5, 24.0, 'Pred'),\n",
              " Text(0.5, 1.0, 'test confusion matrix for Set1')]"
            ]
          },
          "metadata": {
            "tags": []
          },
          "execution_count": 89
        },
        {
          "output_type": "display_data",
          "data": {
            "image/png": "[encoded data removed]",
            "text/plain": [
              "<Figure size 1080x360 with 4 Axes>"
            ]
          },
          "metadata": {
            "tags": [],
            "needs_background": "light"
          }
        }
      ]
    },
    {
      "cell_type": "code",
      "metadata": {
        "id": "DRjHIlBeHC4Q",
        "outputId": "5263aa74-3bbe-4e21-858d-ff21b5917b4e",
        "colab": {
          "base_uri": "https://localhost:8080/",
          "height": 431
        }
      },
      "source": [
        "print(\"=\"*100)\n",
        "\n",
        "best_t_2 = find_best_threshold(tr_thresholds_set2, train_fpr_set2, train_tpr_set2)\n",
        "\n",
        "plt.figure(figsize=(15,5))\n",
        "plt.subplot(131) \n",
        "#train confusion matrix\n",
        "train_confusion_matric_set2 =confusion_matrix(y_train, predict_with_best_t(y_train_pred_set2, best_t_2))\n",
        "sns.heatmap(train_confusion_matric_set2, annot=True,fmt=\"d\",cmap='Blues').set(title='train confusion matrix for Set2',xlabel='Pred',ylabel='True')\n",
        "\n",
        "plt.subplot(132) \n",
        "#test confusion matrix\n",
        "test_confusion_matrix_set2 = confusion_matrix(y_test, predict_with_best_t(y_test_pred_set2, best_t_2))\n",
        "sns.heatmap(test_confusion_matrix_set2, annot=True,fmt=\"d\",cmap='Oranges').set(title='test confusion matrix for Set2',xlabel='Pred',ylabel='True')\n"
      ],
      "execution_count": 91,
      "outputs": [
        {
          "output_type": "stream",
          "text": [
            "====================================================================================================\n",
            "the maximum value of tpr*(1-fpr) 0.5080149942752051 for threshold 0.828\n"
          ],
          "name": "stdout"
        },
        {
          "output_type": "execute_result",
          "data": {
            "text/plain": [
              "[Text(409.4117647058824, 0.5, 'True'),\n",
              " Text(0.5, 24.0, 'Pred'),\n",
              " Text(0.5, 1.0, 'test confusion matrix for Set2')]"
            ]
          },
          "metadata": {
            "tags": []
          },
          "execution_count": 91
        },
        {
          "output_type": "display_data",
          "data": {
            "image/png": "[encoded data removed]",
            "text/plain": [
              "<Figure size 1080x360 with 4 Axes>"
            ]
          },
          "metadata": {
            "tags": [],
            "needs_background": "light"
          }
        }
      ]
    },
    {
      "cell_type": "markdown",
      "metadata": {
        "id": "YhFN-lDWsc4G"
      },
      "source": [
        "<h1>3. Summary</h1>\n",
        "\n",
        "<br> as mentioned in the step 4 of instructions"
      ]
    },
    {
      "cell_type": "code",
      "metadata": {
        "id": "HUnzHzbI6a9o",
        "outputId": "bbed69a3-18b6-4ed0-d9a6-f7291574fd27",
        "colab": {
          "base_uri": "https://localhost:8080/",
          "height": 115
        }
      },
      "source": [
        "from prettytable import PrettyTable\n",
        "table = PrettyTable()\n",
        "table.field_names = ['Vectorizer','Model','learning_rate','n_estimators','Train AUC','Test AUC']\n",
        "table.add_row(['TFIDF','LightGBM',0.007,180,0.774,0.680])\n",
        "table.add_row(['TFIDF W2V','LightGBM',0.007,180,0.778,0.682])\n",
        "print(table)"
      ],
      "execution_count": 92,
      "outputs": [
        {
          "output_type": "stream",
          "text": [
            "+------------+----------+---------------+--------------+-----------+----------+\n",
            "| Vectorizer |  Model   | learning_rate | n_estimators | Train AUC | Test AUC |\n",
            "+------------+----------+---------------+--------------+-----------+----------+\n",
            "|   TFIDF    | LightGBM |     0.007     |     180      |   0.774   |   0.68   |\n",
            "| TFIDF W2V  | LightGBM |     0.007     |     180      |   0.778   |  0.682   |\n",
            "+------------+----------+---------------+--------------+-----------+----------+\n"
          ],
          "name": "stdout"
        }
      ]
    },
    {
      "cell_type": "code",
      "metadata": {
        "id": "QowaVlDuJmnO"
      },
      "source": [
        ""
      ],
      "execution_count": null,
      "outputs": []
    }
  ]
}